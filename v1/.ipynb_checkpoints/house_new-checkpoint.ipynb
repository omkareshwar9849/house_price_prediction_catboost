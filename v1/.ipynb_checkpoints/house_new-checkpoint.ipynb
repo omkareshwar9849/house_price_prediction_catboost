{
 "cells": [
  {
   "cell_type": "code",
   "execution_count": 4,
   "id": "61fd7c0a-8f3d-4457-85c1-6b65f44c1c16",
   "metadata": {},
   "outputs": [
    {
     "name": "stdout",
     "output_type": "stream",
     "text": [
      "Requirement already satisfied: joblib in c:\\users\\2\\anaconda3\\lib\\site-packages (1.2.0)\n",
      "Note: you may need to restart the kernel to use updated packages.\n"
     ]
    }
   ],
   "source": [
    "pip install joblib"
   ]
  },
  {
   "cell_type": "code",
   "execution_count": 1,
   "id": "c9657111-30a0-4499-979e-a709e977e6d0",
   "metadata": {},
   "outputs": [
    {
     "name": "stdout",
     "output_type": "stream",
     "text": [
      "0:\tlearn: 71996.9525532\ttotal: 53.7ms\tremaining: 53.6s\n",
      "100:\tlearn: 22953.8302150\ttotal: 139ms\tremaining: 1.23s\n",
      "200:\tlearn: 19665.0990863\ttotal: 221ms\tremaining: 878ms\n",
      "300:\tlearn: 17144.0042575\ttotal: 307ms\tremaining: 712ms\n",
      "400:\tlearn: 15387.6776472\ttotal: 388ms\tremaining: 580ms\n",
      "500:\tlearn: 13947.5359498\ttotal: 469ms\tremaining: 467ms\n",
      "600:\tlearn: 12800.8750076\ttotal: 552ms\tremaining: 367ms\n",
      "700:\tlearn: 11670.9236604\ttotal: 633ms\tremaining: 270ms\n",
      "800:\tlearn: 10804.3838988\ttotal: 715ms\tremaining: 178ms\n",
      "900:\tlearn: 10065.4545648\ttotal: 798ms\tremaining: 87.7ms\n",
      "999:\tlearn: 9306.6663193\ttotal: 880ms\tremaining: 0us\n",
      "Train RMSE: 9306.666319253523\n",
      "Test RMSE: 28637.558247799414\n"
     ]
    }
   ],
   "source": [
    "import pandas as pd\n",
    "from sklearn.model_selection import train_test_split\n",
    "from catboost import CatBoostRegressor\n",
    "from sklearn.metrics import mean_squared_error\n",
    "\n",
    "# Load the data\n",
    "data = pd.read_csv(\"train.csv\")\n",
    "\n",
    "# Select only 5 important columns\n",
    "data = data[['OverallQual', 'YearBuilt', 'TotalBsmtSF', '1stFlrSF', 'GrLivArea', 'SalePrice']]\n",
    "\n",
    "# Handle missing values\n",
    "data.ffill(inplace=True)  # Forward fill for simplicity\n",
    "\n",
    "# Split the data into features and target\n",
    "X = data.drop(columns=['SalePrice'])\n",
    "y = data['SalePrice']\n",
    "\n",
    "# Split data into train and test sets\n",
    "X_train, X_test, y_train, y_test = train_test_split(X, y, test_size=0.2, random_state=42)\n",
    "\n",
    "# Train the CatBoostRegressor model\n",
    "model = CatBoostRegressor(iterations=1000, depth=6, learning_rate=0.1, loss_function='RMSE')\n",
    "model.fit(X_train, y_train, verbose=100)\n",
    "\n",
    "# Make predictions\n",
    "y_pred_train = model.predict(X_train)\n",
    "y_pred_test = model.predict(X_test)\n",
    "\n",
    "# Evaluate the model\n",
    "train_rmse = mean_squared_error(y_train, y_pred_train, squared=False)\n",
    "test_rmse = mean_squared_error(y_test, y_pred_test, squared=False)\n",
    "\n",
    "print(\"Train RMSE:\", train_rmse)\n",
    "print(\"Test RMSE:\", test_rmse)\n"
   ]
  },
  {
   "cell_type": "code",
   "execution_count": 2,
   "id": "5de085b5-6054-4746-9a67-838aef5f4544",
   "metadata": {},
   "outputs": [],
   "source": [
    "import joblib\n",
    "\n",
    "# Assuming you have already trained and have the 'model' object\n",
    "\n",
    "# Specify the file path where you want to save the model\n",
    "model_file_path = 'catboost_model_house.cbm'\n",
    "\n",
    "# Save the model\n",
    "model.save_model(model_file_path, format=\"cbm\")"
   ]
  },
  {
   "cell_type": "code",
   "execution_count": 3,
   "id": "16e74bae-8c64-4f5b-9c76-760c90ddeec5",
   "metadata": {},
   "outputs": [
    {
     "data": {
      "text/plain": [
       "OverallQual       6\n",
       "YearBuilt      1963\n",
       "TotalBsmtSF    1059\n",
       "1stFlrSF       1068\n",
       "GrLivArea      1068\n",
       "Name: 892, dtype: int64"
      ]
     },
     "execution_count": 3,
     "metadata": {},
     "output_type": "execute_result"
    }
   ],
   "source": [
    "X_test.iloc[0]"
   ]
  },
  {
   "cell_type": "code",
   "execution_count": null,
   "id": "79829b71-eb6c-42e6-bb9f-dfd8b9151bc0",
   "metadata": {},
   "outputs": [],
   "source": []
  }
 ],
 "metadata": {
  "kernelspec": {
   "display_name": "Python 3 (ipykernel)",
   "language": "python",
   "name": "python3"
  },
  "language_info": {
   "codemirror_mode": {
    "name": "ipython",
    "version": 3
   },
   "file_extension": ".py",
   "mimetype": "text/x-python",
   "name": "python",
   "nbconvert_exporter": "python",
   "pygments_lexer": "ipython3",
   "version": "3.11.7"
  }
 },
 "nbformat": 4,
 "nbformat_minor": 5
}
